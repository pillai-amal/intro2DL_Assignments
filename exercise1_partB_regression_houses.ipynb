{
 "cells": [
  {
   "cell_type": "markdown",
   "metadata": {},
   "source": [
    "# Exercise 1"
   ]
  },
  {
   "cell_type": "markdown",
   "metadata": {},
   "source": [
    "In this exercise, we work with the California Housing dataset, which is included in sklearn. It is a collection of average house prices per block, while each block is also characterized by 8 features:\n",
    "\n",
    "|Feature name | description|\n",
    "|-------------|------------|\n",
    "|MedInc | median income in block|\n",
    "|HouseAge | median house age in block|\n",
    "|AveRooms | average number of rooms|\n",
    "|AveBedrms | average number of bedrooms|\n",
    "|Population | block population|\n",
    "|AveOccup | average house occupancy|\n",
    "|Latitude | house block latitude|\n",
    "|Longitude | house block longitude|"
   ]
  },
  {
   "cell_type": "markdown",
   "metadata": {},
   "source": [
    "We can download the data with:"
   ]
  },
  {
   "cell_type": "code",
   "execution_count": 1,
   "metadata": {},
   "outputs": [],
   "source": [
    "from sklearn.datasets import fetch_california_housing\n",
    "\n",
    "(X, y) = fetch_california_housing(data_home=None, download_if_missing=True, return_X_y=True)"
   ]
  },
  {
   "cell_type": "markdown",
   "metadata": {},
   "source": [
    "X and y are the features and the label, respectively. We can look at the format of the data:"
   ]
  },
  {
   "cell_type": "code",
   "execution_count": 7,
   "metadata": {},
   "outputs": [
    {
     "name": "stdout",
     "output_type": "stream",
     "text": [
      "<class 'numpy.ndarray'>\n",
      "<class 'numpy.ndarray'>\n",
      "(20640, 8)\n",
      "(20640,)\n",
      "float64\n",
      "float64\n"
     ]
    }
   ],
   "source": [
    "print(type(X))\n",
    "print(type(y))\n",
    "\n",
    "print(X.shape)\n",
    "print(y.shape)\n",
    "\n",
    "print(X.dtype)\n",
    "print(y.dtype)\n"
   ]
  },
  {
   "cell_type": "markdown",
   "metadata": {},
   "source": [
    "As you can see, X and y are numpy arrays. There are a total of 20640 samples in the dataset. X has 8 features per sample, and y are the corresponding labels."
   ]
  },
  {
   "cell_type": "markdown",
   "metadata": {},
   "source": [
    "## Plotting the data"
   ]
  },
  {
   "cell_type": "markdown",
   "metadata": {},
   "source": [
    "When working with a dataset, it is always helpful to visualize the data that we are working with, in order to be able to check if our results are meaningful. We will use matplotlib to plot the data."
   ]
  },
  {
   "cell_type": "code",
   "execution_count": 2,
   "metadata": {},
   "outputs": [],
   "source": [
    "import matplotlib.pyplot as plt\n",
    "%matplotlib inline"
   ]
  },
  {
   "cell_type": "code",
   "execution_count": null,
   "metadata": {},
   "outputs": [],
   "source": [
    "features = [\"MedInc\", \"HouseAge\", \"AveRooms\", \"AveBedrms\", \"Population\", \"AveOccup\", \"Latitude\", \"Longitude\"]\n",
    "\n",
    "for i, feature_name in enumerate(features):\n",
    "    plt.figure()\n",
    "    plt.title(f\"price vs {feature_name}\")\n",
    "    plt.scatter(X[:, i], y, marker=\"x\")\n",
    "    plt.show()"
   ]
  },
  {
   "cell_type": "markdown",
   "metadata": {},
   "source": [
    "We can see that the data is non-linear, which means that a linear regression will probably not yield the best results. But we can do it anyway and see how good it performs.\n",
    "\n",
    "Also, this dataset has more dimensions than the example, which was 2D. But linear regression works still the same. Instead of one input variable we now have eight input variables, to calculate the output (the price). The linear regression will find a factor $\\alpha_{var}$ for each input variable $var$ plus a bias $b$. This means, we assume that the price can be calculated in the following form:\n",
    "\n",
    "\\begin{equation}\n",
    "  price = \\alpha_{MedInc} MedInc + \\alpha_{HouseAge} HouseAge + \\ldots + \\alpha_{Longitude} Longitude + b\n",
    "\\end{equation}"
   ]
  },
  {
   "cell_type": "markdown",
   "metadata": {},
   "source": [
    "Your tasks in this notebook are:\n",
    "    \n",
    "- Add and adapt the numpy linear regression code from the other regression notebook, so that it performs linear regression on the California Housing dataset. If performed correctly, you should be able to get an MSE of ca. 0.5243. You can use sklearn to get a quick solution, but also implement the manual solution (without sklearn)."
   ]
  },
  {
   "cell_type": "markdown",
   "metadata": {},
   "source": [
    "## Solution"
   ]
  },
  {
   "cell_type": "code",
   "execution_count": 6,
   "metadata": {},
   "outputs": [
    {
     "name": "stdout",
     "output_type": "stream",
     "text": [
      "MSE 0.5243209861846072\n"
     ]
    }
   ],
   "source": [
    "from sklearn.linear_model import LinearRegression\n",
    "from sklearn.metrics import mean_squared_error\n",
    "reg = LinearRegression()\n",
    "reg.fit(X,y)\n",
    "predictions = reg.predict(X)\n",
    "print(\"MSE :\", mean_squared_error(y, predictions))\n"
   ]
  }
 ],
 "metadata": {
  "kernelspec": {
   "display_name": "Python 3 (ipykernel)",
   "language": "python",
   "name": "python3"
  },
  "language_info": {
   "codemirror_mode": {
    "name": "ipython",
    "version": 3
   },
   "file_extension": ".py",
   "mimetype": "text/x-python",
   "name": "python",
   "nbconvert_exporter": "python",
   "pygments_lexer": "ipython3",
   "version": "3.9.13"
  }
 },
 "nbformat": 4,
 "nbformat_minor": 4
}
